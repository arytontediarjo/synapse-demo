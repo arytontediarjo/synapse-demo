{
 "cells": [
  {
   "cell_type": "code",
   "execution_count": 24,
   "metadata": {},
   "outputs": [
    {
     "name": "stdout",
     "output_type": "stream",
     "text": [
      "Welcome, Aryton Tediarjo!\n",
      "\n"
     ]
    }
   ],
   "source": [
    "import synapseclient\n",
    "from synapseclient import File\n",
    "import synapseutils\n",
    "import pandas as pd\n",
    "import numpy as np\n",
    "import sys\n",
    "sys.path.append(os.path.join(os.getcwd(), '..'))\n",
    "\n",
    "syn = synapseclient.login()"
   ]
  },
  {
   "cell_type": "code",
   "execution_count": 18,
   "metadata": {},
   "outputs": [],
   "source": [
    "## clear project directory\n",
    "for i in syn.getChildren(\"syn26560291\"):\n",
    "    syn.delete(i[\"id\"])"
   ]
  },
  {
   "cell_type": "code",
   "execution_count": 35,
   "metadata": {},
   "outputs": [],
   "source": [
    "PARENT_ID = \"syn26560291\"\n",
    "file_path_1 = os.path.join(os.getcwd(), '..', 'data/sample_1.tsv')\n",
    "file_path_2 = os.path.join(os.getcwd(), '..', \"data/sample_2.tsv\")"
   ]
  },
  {
   "cell_type": "markdown",
   "metadata": {},
   "source": [
    "## File Uploads"
   ]
  },
  {
   "cell_type": "markdown",
   "metadata": {},
   "source": [
    "### Upload a File"
   ]
  },
  {
   "cell_type": "code",
   "execution_count": 39,
   "metadata": {},
   "outputs": [
    {
     "data": {
      "text/html": [
       "<div>\n",
       "<style scoped>\n",
       "    .dataframe tbody tr th:only-of-type {\n",
       "        vertical-align: middle;\n",
       "    }\n",
       "\n",
       "    .dataframe tbody tr th {\n",
       "        vertical-align: top;\n",
       "    }\n",
       "\n",
       "    .dataframe thead th {\n",
       "        text-align: right;\n",
       "    }\n",
       "</style>\n",
       "<table border=\"1\" class=\"dataframe\">\n",
       "  <thead>\n",
       "    <tr style=\"text-align: right;\">\n",
       "      <th></th>\n",
       "      <th>user</th>\n",
       "      <th>createdOn</th>\n",
       "      <th>x</th>\n",
       "      <th>y</th>\n",
       "    </tr>\n",
       "  </thead>\n",
       "  <tbody>\n",
       "    <tr>\n",
       "      <th>0</th>\n",
       "      <td>2ujCqOOTaL</td>\n",
       "      <td>2020-01-26</td>\n",
       "      <td>-0.092490</td>\n",
       "      <td>-2.062096</td>\n",
       "    </tr>\n",
       "    <tr>\n",
       "      <th>1</th>\n",
       "      <td>ZjFIjuDMRu</td>\n",
       "      <td>2020-07-09</td>\n",
       "      <td>0.637994</td>\n",
       "      <td>-1.064356</td>\n",
       "    </tr>\n",
       "    <tr>\n",
       "      <th>2</th>\n",
       "      <td>OW71lKO2MZ</td>\n",
       "      <td>2020-10-17</td>\n",
       "      <td>0.201692</td>\n",
       "      <td>-1.162419</td>\n",
       "    </tr>\n",
       "    <tr>\n",
       "      <th>3</th>\n",
       "      <td>gyh0Xpo5Ex</td>\n",
       "      <td>2020-11-09</td>\n",
       "      <td>-0.069917</td>\n",
       "      <td>1.648522</td>\n",
       "    </tr>\n",
       "    <tr>\n",
       "      <th>4</th>\n",
       "      <td>crmp5Sbvy2</td>\n",
       "      <td>2020-11-26</td>\n",
       "      <td>-0.713025</td>\n",
       "      <td>0.448903</td>\n",
       "    </tr>\n",
       "  </tbody>\n",
       "</table>\n",
       "</div>"
      ],
      "text/plain": [
       "         user   createdOn         x         y\n",
       "0  2ujCqOOTaL  2020-01-26 -0.092490 -2.062096\n",
       "1  ZjFIjuDMRu  2020-07-09  0.637994 -1.064356\n",
       "2  OW71lKO2MZ  2020-10-17  0.201692 -1.162419\n",
       "3  gyh0Xpo5Ex  2020-11-09 -0.069917  1.648522\n",
       "4  crmp5Sbvy2  2020-11-26 -0.713025  0.448903"
      ]
     },
     "execution_count": 39,
     "metadata": {},
     "output_type": "execute_result"
    }
   ],
   "source": [
    "data = pd.read_csv(file_path_2, sep = \"\\t\")\n",
    "data"
   ]
  },
  {
   "cell_type": "code",
   "execution_count": 43,
   "metadata": {},
   "outputs": [
    {
     "data": {
      "text/plain": [
       "File(name='sample_1.tsv', versionLabel='9', createdBy='3394042', id='syn26560292', files=['sample_1.tsv'], isLatestVersion=True, createdOn='2021-12-16T18:05:24.639Z', cacheDir='data', dataFileHandleId='85829862', etag='72848aa9-a512-4f2f-9518-2ebc625414f8', parentId='syn26560291', versionNumber=9, _file_handle={'id': '85829862', 'etag': 'f2edc1a1-adf6-4dd4-ad34-593e3e0f95d4', 'createdBy': '3394042', 'createdOn': '2021-12-16T18:05:24.000Z', 'modifiedOn': '2021-12-16T18:05:24.000Z', 'concreteType': 'org.sagebionetworks.repo.model.file.S3FileHandle', 'contentType': 'text/tab-separated-values', 'contentMd5': 'f29c0c0b6d429a4a3eee9ebf1ad08dc5', 'fileName': 'sample_1.tsv', 'storageLocationId': 1, 'contentSize': 313, 'status': 'AVAILABLE', 'bucketName': 'proddata.sagebase.org', 'key': '3394042/1079060c-9e34-4996-9f61-79e6746c5d65/sample_1.tsv', 'previewId': '85829863', 'isPreview': False, 'externalURL': None}, path='data/sample_1.tsv', synapseStore=True, concreteType='org.sagebionetworks.repo.model.FileEntity', modifiedOn='2021-12-16T18:20:36.669Z', modifiedBy='3394042')"
      ]
     },
     "execution_count": 43,
     "metadata": {},
     "output_type": "execute_result"
    }
   ],
   "source": [
    "entity = File(file_path_1, parent = PARENT_ID)\n",
    "syn.store(entity)"
   ]
  },
  {
   "cell_type": "markdown",
   "metadata": {},
   "source": [
    "### Versioning"
   ]
  },
  {
   "cell_type": "code",
   "execution_count": 56,
   "metadata": {},
   "outputs": [
    {
     "name": "stdout",
     "output_type": "stream",
     "text": [
      "\n",
      "##################################################\n",
      " Uploading file to Synapse storage \n",
      "##################################################\n",
      "\n"
     ]
    },
    {
     "data": {
      "text/plain": [
       "File(name='sample_1.tsv', createdBy='3394042', id='syn26560292', files=['sample_1.tsv'], concreteType='org.sagebionetworks.repo.model.FileEntity', isLatestVersion=True, createdOn='2021-12-16T18:05:24.639Z', cacheDir='data', parentId='syn26560291', versionNumber=12, path='data/sample_1.tsv', _file_handle={'id': '85831680', 'etag': 'ee4c81c4-b870-4530-9643-7dceba84f99c', 'createdBy': '3394042', 'createdOn': '2021-12-16T18:30:18.000Z', 'modifiedOn': '2021-12-16T18:30:18.000Z', 'concreteType': 'org.sagebionetworks.repo.model.file.S3FileHandle', 'contentType': 'text/tab-separated-values', 'contentMd5': '0418d542a8645aa66ee1920d7d18fe1c', 'fileName': 'sample_1.tsv', 'storageLocationId': 1, 'contentSize': 377, 'status': 'AVAILABLE', 'bucketName': 'proddata.sagebase.org', 'key': '3394042/2f0571ff-fb64-4ce3-92b2-2540349625c9/sample_1.tsv', 'previewId': '85831682', 'isPreview': False, 'externalURL': None}, synapseStore=True, versionLabel='12', dataFileHandleId='85831680', modifiedOn='2021-12-16T18:30:32.035Z', modifiedBy='3394042', etag='14191974-17c9-4490-acf4-35fce0753699')"
      ]
     },
     "execution_count": 56,
     "metadata": {},
     "output_type": "execute_result"
    }
   ],
   "source": [
    "data[\"another_col\"] = \"ignore me\"\n",
    "data.to_csv(file_path_1, sep = \"\\t\", index = None)\n",
    "entity = File(file_path_1, parent = PARENT_ID)\n",
    "syn.store(entity)"
   ]
  },
  {
   "cell_type": "markdown",
   "metadata": {},
   "source": [
    "### Annotations\n",
    "\n",
    "Key-Value pair for each of the file entity"
   ]
  },
  {
   "cell_type": "code",
   "execution_count": 44,
   "metadata": {},
   "outputs": [],
   "source": [
    "data = pd.read_csv(file_path_1, sep = \"\\t\")\n",
    "entity = File(file_path_1, parent = PARENT_ID)"
   ]
  },
  {
   "cell_type": "code",
   "execution_count": 47,
   "metadata": {},
   "outputs": [],
   "source": [
    "entity[\"info\"] = \"This file is useful for science-y stuff\"\n",
    "entity[\"createdAt\"] = \"Thursday\""
   ]
  },
  {
   "cell_type": "code",
   "execution_count": 48,
   "metadata": {},
   "outputs": [
    {
     "data": {
      "text/plain": [
       "File(etag='836ddc06-2af7-45c4-a05e-9fd4a77c6820', name='sample_2.tsv', createdAt=['Thursday'], dataFileHandleId='85831519', id='syn26560299', files=['sample_2.tsv'], versionLabel='7', createdBy='3394042', isLatestVersion=True, createdOn='2021-12-16T18:11:29.078Z', info=['This file is useful for science-y stuff'], versionNumber=7, modifiedBy='3394042', cacheDir='data', parentId='syn26560291', _file_handle={'id': '85831519', 'etag': '864511ce-73d0-4f64-a300-0db597712707', 'createdBy': '3394042', 'createdOn': '2021-12-16T18:11:28.000Z', 'modifiedOn': '2021-12-16T18:11:28.000Z', 'concreteType': 'org.sagebionetworks.repo.model.file.S3FileHandle', 'contentType': 'text/tab-separated-values', 'contentMd5': '5083cdd774afc4c2ea03404bafa9f4b7', 'fileName': 'sample_2.tsv', 'storageLocationId': 1, 'contentSize': 313, 'status': 'AVAILABLE', 'bucketName': 'proddata.sagebase.org', 'key': '3394042/42f53d9f-b393-4ad1-b2f3-3ec58979e2ed/sample_2.tsv', 'previewId': '85831524', 'isPreview': False, 'externalURL': None}, synapseStore=True, path='data/sample_2.tsv', concreteType='org.sagebionetworks.repo.model.FileEntity', modifiedOn='2021-12-16T18:21:39.959Z')"
      ]
     },
     "execution_count": 48,
     "metadata": {},
     "output_type": "execute_result"
    }
   ],
   "source": [
    "syn.store(entity)"
   ]
  },
  {
   "cell_type": "markdown",
   "metadata": {},
   "source": [
    "### Provenance\n",
    "Track origin of files, when it was executed or what data do we use"
   ]
  },
  {
   "cell_type": "code",
   "execution_count": null,
   "metadata": {},
   "outputs": [],
   "source": [
    "data = pd.read_csv(file_path_2, sep = \"\\t\")\n",
    "entity = File(file_path_2, parent = PARENT_ID)\n",
    "syn.store(entity, \n",
    "          used = \n",
    "          executed = 'https://github.com/arytontediarjo/synapse-demo')"
   ]
  },
  {
   "cell_type": "markdown",
   "metadata": {},
   "source": [
    "### Several Files"
   ]
  },
  {
   "cell_type": "code",
   "execution_count": 33,
   "metadata": {},
   "outputs": [
    {
     "name": "stdout",
     "output_type": "stream",
     "text": [
      "Validation and upload of: manifest.tsv\n",
      "Validating columns of manifest.....OK\n",
      "Validating that all paths exist..........OK\n",
      "Validating that all files are unique...OK\n",
      "Validating that all the files are not empty...OK\n",
      "Validating file names... \n",
      "OK\n",
      "Validating provenance...OK\n",
      "Validating that parents exist and are containers...OK\n",
      "==================================================\n",
      "We are about to upload 10 files with a total size of 3.0kB.\n",
      " ==================================================\n",
      "Starting upload...\n"
     ]
    }
   ],
   "source": [
    "synapseutils.syncToSynapse(syn = syn, \n",
    "                           manifestFile = \"manifest.tsv\")"
   ]
  },
  {
   "cell_type": "markdown",
   "metadata": {},
   "source": [
    "## Fetch Files from Synapse"
   ]
  },
  {
   "cell_type": "code",
   "execution_count": null,
   "metadata": {},
   "outputs": [],
   "source": [
    "entity = syn.get(\"\")"
   ]
  }
 ],
 "metadata": {
  "kernelspec": {
   "display_name": "py_environment",
   "language": "python",
   "name": "py_environment"
  },
  "language_info": {
   "codemirror_mode": {
    "name": "ipython",
    "version": 3
   },
   "file_extension": ".py",
   "mimetype": "text/x-python",
   "name": "python",
   "nbconvert_exporter": "python",
   "pygments_lexer": "ipython3",
   "version": "3.8.2"
  }
 },
 "nbformat": 4,
 "nbformat_minor": 4
}
